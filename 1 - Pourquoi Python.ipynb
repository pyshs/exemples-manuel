{
 "cells": [
  {
   "cell_type": "markdown",
   "metadata": {},
   "source": [
    "# Chapitre 1 : Python en sciences humaines et sociales"
   ]
  },
  {
   "cell_type": "markdown",
   "metadata": {},
   "source": [
    "Pourquoi s'initier à un langage de programmation quand on fait des sciences humaines et sociales (SHS) ? Pourquoi, moi, sociologue, géographe, historien ou anthropologue, je prendrais un temps toujours trop rare pour apprendre à programmer ? Non seulement programmer permet de réaliser les traitements courants, comme les statistiques ou le recodage de données existantes, mais ouvre la possibilité de nouvelles stratégies comme la collecte d'informations sur internet ou l'automatisation de certaines tâches."
   ]
  },
  {
   "cell_type": "markdown",
   "metadata": {},
   "source": [
    "Il n'y a pas de code dans prologue, vous pouvez retrouver le chapitre 1 qui présente l'intérêt d'utiliser Python en SHS dans le manuel."
   ]
  }
 ],
 "metadata": {
  "kernelspec": {
   "display_name": "Python 3",
   "language": "python",
   "name": "python3"
  },
  "language_info": {
   "codemirror_mode": {
    "name": "ipython",
    "version": 3
   },
   "file_extension": ".py",
   "mimetype": "text/x-python",
   "name": "python",
   "nbconvert_exporter": "python",
   "pygments_lexer": "ipython3",
   "version": "3.7.7"
  }
 },
 "nbformat": 4,
 "nbformat_minor": 4
}
